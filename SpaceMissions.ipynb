{
 "cells": [
  {
   "cell_type": "markdown",
   "id": "fb4f346a",
   "metadata": {},
   "source": [
    "# Analyzing Organizations and Countries in the Space Race "
   ]
  },
  {
   "cell_type": "markdown",
   "id": "eab45a36",
   "metadata": {},
   "source": [
    "Aggregating the dataset scraped from nextspaceflight.com:\n",
    "In this project, we will analyze each countries's position in the space race, in respect to their total amount of launches over time, price per launch, etc."
   ]
  },
  {
   "cell_type": "code",
   "execution_count": null,
   "id": "acd45423",
   "metadata": {},
   "outputs": [],
   "source": []
  }
 ],
 "metadata": {
  "kernelspec": {
   "display_name": "Python 3 (ipykernel)",
   "language": "python",
   "name": "python3"
  },
  "language_info": {
   "codemirror_mode": {
    "name": "ipython",
    "version": 3
   },
   "file_extension": ".py",
   "mimetype": "text/x-python",
   "name": "python",
   "nbconvert_exporter": "python",
   "pygments_lexer": "ipython3",
   "version": "3.9.12"
  }
 },
 "nbformat": 4,
 "nbformat_minor": 5
}
